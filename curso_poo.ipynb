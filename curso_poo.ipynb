{
 "cells": [
  {
   "cell_type": "markdown",
   "id": "5771399d-b4f5-44e4-bf7d-3a35b8b98ace",
   "metadata": {},
   "source": [
    "# Curso de Programación Orientada a Objetos con Python3\n",
    "\n",
    "## Introducción\n",
    "\n",
    "En este curso de introducción a la programación en Python3 se muestran códigos de ejemplo y se describe el funcionamiento de cada uno de ellos.\n",
    "\n",
    "# print()"
   ]
  },
  {
   "cell_type": "markdown",
   "id": "89e5a927-d339-47af-a1a3-f6ef01c2eac8",
   "metadata": {},
   "source": [
    "## 1. Programa0 - Hola mundo"
   ]
  },
  {
   "cell_type": "code",
   "execution_count": 1,
   "id": "93d11e9f-8ec9-4283-acdb-64734fd710be",
   "metadata": {},
   "outputs": [
    {
     "name": "stdout",
     "output_type": "stream",
     "text": [
      "Hola mundo en Python3\n"
     ]
    }
   ],
   "source": [
    "print(\"Hola mundo en Python3\") # Muestra en consola el mensaje Hola mundo en Python3"
   ]
  },
  {
   "cell_type": "markdown",
   "id": "3ff0951d-89c7-41f8-8697-17b8a9428388",
   "metadata": {},
   "source": [
    "### 1.1 Descripción \n",
    "\n",
    "En el ejemplo anterior se utlizan los siguientes elementos:\n",
    "\n",
    "1. El método **print()** permite mostrar una cadena de texto en la consola.\n",
    "2. Las **\" (Comillas dobles)** indican que el contenido es una cadena de texto **string**.\n",
    "3. El simbolo **# (Hashtag)** se utiliza para agregar un comentario de una línea, es decir el texto que esta a la derecha del simbolo es ignorada durante la ejecución, y permite describir que hace esa línea."
   ]
  },
  {
   "cell_type": "markdown",
   "id": "ecb67bc6-b7bb-4801-828f-c077db0020ca",
   "metadata": {},
   "source": [
    "## 2. Programa1 - Concatenación de variables"
   ]
  },
  {
   "cell_type": "code",
   "execution_count": 4,
   "id": "bc026e96-9337-47d7-a24a-41d67f4ec082",
   "metadata": {},
   "outputs": [
    {
     "name": "stdout",
     "output_type": "stream",
     "text": [
      "Hola mundo python3\n"
     ]
    }
   ],
   "source": [
    "texto1 = \"Hola \" # Declaración y asignación de valor a la variable texto1\n",
    "texto2 = \"mundo python3\" # Declaración y asignación de valor a la variable texto1\n",
    "print(texto1 + texto2) # Concatenación de dos cadenas de texto"
   ]
  },
  {
   "cell_type": "markdown",
   "id": "eb9643fb-09fa-461e-8009-9419a637561f",
   "metadata": {},
   "source": [
    "### 2.1 Descripción\n",
    "\n",
    "En el ejemplo aterior se utilizan los siguientes elementos:\n",
    "\n",
    "1. **texto1** y **texto2** son variables, es decir son elementos que permiten almacenar datos en la memoria volatil de la computadora.\n",
    "2. En Python cuando se asigna un valor a una **variable** utilizando **=** seguido de un valor es cuando se determina el tipo de dato de esa **variable**.\n",
    "3. Cuando se utiliza la función **print()** esta no solo recibe cadenas de texto, tambien puede recibir variables con cadenas de texto.\n",
    "4. El operador **+** es un operador aritmético que permite sumar dos números, pero como se muestra en este ejemplo tambien permite **concatenar** dos o más cadenas de texto, convirtiendolas en una sola cadena de texto."
   ]
  },
  {
   "cell_type": "markdown",
   "id": "bb794a02-6b5b-40f0-b6c2-2054fa51c959",
   "metadata": {},
   "source": [
    "## 3. Programa2 - Impresión de variables utilizando format"
   ]
  },
  {
   "cell_type": "code",
   "execution_count": 10,
   "id": "5b973dc3-b5de-4806-9123-f0be133631e7",
   "metadata": {},
   "outputs": [
    {
     "name": "stdout",
     "output_type": "stream",
     "text": [
      "Hola 619\n"
     ]
    }
   ],
   "source": [
    "texto1 = \"Hola \" # Varaible de tipo cadena de caracteres (str)\n",
    "texto2 = 619 # Varible de tipo entero (int)\n",
    "print(\"{}{}\".format(texto1,texto2)) # Concatenación de dos cadenas de texto"
   ]
  },
  {
   "cell_type": "markdown",
   "id": "f63bfa84-d46c-4d43-9306-13a496f6e6bd",
   "metadata": {},
   "source": [
    "### 3.1 Descripción\n",
    "\n",
    "En el ejemplo anterior se utilizan los siguientes elementos:\n",
    "\n",
    "1. **texto1** es una variable de tipo cadena de caractéres **string**\n",
    "2. **texto2** es una variable de tipo numérico entero **int**\n",
    "3. La función **print()** utilza el método **format()** para imprimir los valores de las variables, sustituyendo cada para de **{} (llaves)** por el valor de una variable, en el orden en el que se encuentran escritas, separadas por **,**\n",
    "4. El método **format** automáticamente convierte el valor **619** a una cadena de carateres **str**"
   ]
  },
  {
   "cell_type": "markdown",
   "id": "2838d741-6938-462d-8d80-da43effd745d",
   "metadata": {},
   "source": [
    "## 4. Programa3 -  Impresión de variables utilizando format y operaciones"
   ]
  },
  {
   "cell_type": "code",
   "execution_count": 12,
   "id": "1a489af0-a7ed-45d8-82ed-545e0d1d4811",
   "metadata": {},
   "outputs": [
    {
     "name": "stdout",
     "output_type": "stream",
     "text": [
      "10+15.5=25.5\n"
     ]
    }
   ],
   "source": [
    "numero1 = 10\n",
    "numero2 = 15.5\n",
    "print(\"{}+{}={}\".format(numero1,numero2,(numero1+numero2)))"
   ]
  },
  {
   "cell_type": "markdown",
   "id": "d7f8eddf-c420-422b-a6bc-669ae24e14ad",
   "metadata": {},
   "source": [
    "### 4.1 Descripción\n",
    "\n",
    "En el ejemplo anterior se utilizan los siguientes elementos:\n",
    "\n",
    "1. **numero1** es una variable de tipo entero **int**\n",
    "2. **numero2** es una variable de tipo flotante **float**\n",
    "3. La función **print()** permite imprimir los valores de las variables que le envia el método **format()**\n",
    "4. Dentro de **format()** es posible realizar operaciones y convertir el resultado a una cadena de caracteres **str**"
   ]
  },
  {
   "cell_type": "markdown",
   "id": "cab57ba6-a2a4-450e-be8c-cccf06441fda",
   "metadata": {},
   "source": [
    "## 5. Programa4 - Impresión de variables por nombre utilizando format"
   ]
  },
  {
   "cell_type": "code",
   "execution_count": 15,
   "id": "deca860a-6340-474e-aedb-d174b945de2b",
   "metadata": {},
   "outputs": [
    {
     "name": "stdout",
     "output_type": "stream",
     "text": [
      "10+15.8=25.8\n"
     ]
    }
   ],
   "source": [
    "numero1 = 10 # variable de tipo int\n",
    "numero2 = 15.8 # variable de tipo float\n",
    "print(\"{n1}+{n2}={suma}\".format(n1=numero1,n2=numero2,suma=numero1+numero2))"
   ]
  },
  {
   "cell_type": "markdown",
   "id": "a3a74d50-09dd-4f95-99a2-85f4b159b16f",
   "metadata": {},
   "source": [
    "## 5.1 Descripción\n",
    "\n",
    "En el ejemplo anterior se utlzan los siguientes elemntos\n",
    "\n",
    "1. **numero1** es una variable de tipo **int**\n",
    "2. **numero2** es una variable de tipo **float**\n",
    "3. La función **print()** imprime los valores de las variables en envía el méotod **format()** a traves del nombre que se les asigna dentro de **format()**"
   ]
  },
  {
   "cell_type": "markdown",
   "id": "ac6caf5d-ed26-42d0-867a-a71f5bacebaa",
   "metadata": {},
   "source": [
    "## 6. Programa5 - Impresión de variables utilizando f string"
   ]
  },
  {
   "cell_type": "code",
   "execution_count": 16,
   "id": "06d50164-9e36-4703-b0b0-5258788cc9d9",
   "metadata": {},
   "outputs": [
    {
     "name": "stdout",
     "output_type": "stream",
     "text": [
      "10 + 16.5 = 26.5\n"
     ]
    }
   ],
   "source": [
    "numero1 = 10 # variable de tipo int\n",
    "numero2 = 16.5 # variable de tipo float\n",
    "print(f\"{numero1} + {numero2} = {numero1+numero2}\")"
   ]
  },
  {
   "cell_type": "markdown",
   "id": "f0d950e7-df31-41ba-956a-bbe30764f7f7",
   "metadata": {},
   "source": [
    "## 6.1 Descripción\n",
    "\n",
    "1. **numero1** es una variable de tipo **int**\n",
    "2. **numero2** es una variable de tipo **float**\n",
    "3. La función **print()** utlizan **f string** para llamar directamente el valor de las variables dentro de las **\" (comillas dobles)**"
   ]
  },
  {
   "cell_type": "markdown",
   "id": "8aae38e8-aa89-4cf0-94cc-fb9c76d8745d",
   "metadata": {},
   "source": [
    "## 7. Programa6 - Imprimir el tipo de dato de las variables"
   ]
  },
  {
   "cell_type": "code",
   "execution_count": 18,
   "id": "77a26e28-c78c-4810-a63b-d53ce57067dd",
   "metadata": {},
   "outputs": [
    {
     "name": "stdout",
     "output_type": "stream",
     "text": [
      "<class 'int'>\n",
      "<class 'float'>\n",
      "<class 'bool'>\n",
      "<class 'str'>\n"
     ]
    }
   ],
   "source": [
    "entero = 10 # variable de tipo int\n",
    "flotante = 14.5 # variable de tipo float\n",
    "boleana = True # variable de tipo bool\n",
    "cadena_caracteres = \"hola\" # variable de tipo str\n",
    "\n",
    "\n",
    "print(type(entero))\n",
    "print(type(flotante))\n",
    "print(type(boleana))\n",
    "print(type(cadena_caracteres))"
   ]
  },
  {
   "cell_type": "markdown",
   "id": "1596babe-1ffb-4bb5-9188-3e12800967b4",
   "metadata": {},
   "source": [
    "### 7.1 Descripción\n",
    "\n",
    "El ejercicio anterior contiene los siguientes elementos\n",
    "\n",
    "1. **entero** variable de tipo **int**\n",
    "2. **flotante** variable de tipo **float**\n",
    "3. **boleana** variable de tipo **bool**\n",
    "4. **cadena_caracteres** variable de tipo **str**\n",
    "5. La función **type()** permite conocer el tipo de dato de una variable, es decir a que **clase** pertenece"
   ]
  },
  {
   "cell_type": "markdown",
   "id": "56c10dbe-2d79-4c18-a774-0d8801567d89",
   "metadata": {},
   "source": [
    "## 8. Programa7 separadores en print()"
   ]
  },
  {
   "cell_type": "code",
   "execution_count": 27,
   "id": "bd5b2206-a33d-4fc6-ae3a-39517de8964c",
   "metadata": {},
   "outputs": [
    {
     "name": "stdout",
     "output_type": "stream",
     "text": [
      "Hola mundo Python\n",
      "Hola mundo Python\n",
      "Hola*mundo*Python\n"
     ]
    }
   ],
   "source": [
    "print(\"Hola\",\"mundo\",\"Python\") # Separador defualt espacio\n",
    "print(\"Hola\",\"mundo\",\"Python\",sep=\" \") # Separador espacio de forma explicita\n",
    "print(\"Hola\",\"mundo\",\"Python\",sep=\"*\") # Separador *"
   ]
  },
  {
   "cell_type": "markdown",
   "id": "e63b3e7d-ad4c-449c-bcb2-8663f3e19c4c",
   "metadata": {},
   "source": [
    "### 8.1 Descripción\n",
    "\n",
    "El ejemplo anterior contiene los siguientes elementos:\n",
    "\n",
    "1. La función **print()** utilizando **,** para separar cadenas de caracteres.\n",
    "2. La función **print()** utilizando el parámetro **sep** para indicar el simbolo **espacio** que se utilzará para separar cadenas de caractéres.\n",
    "3. La función **print()** utilizando el parámetro **sep** para indicar el simbolo * que se utilzará para separar cadenas de caractéres.\n"
   ]
  },
  {
   "cell_type": "markdown",
   "id": "ea7617ff-cad2-42bf-8e8c-86743c2bcaf8",
   "metadata": {},
   "source": [
    "## 9. Programa8 seperaradoes y terminacion en print()"
   ]
  },
  {
   "cell_type": "code",
   "execution_count": 26,
   "id": "0b0b3c5e-a9ce-42da-91e1-11bcf05a72d1",
   "metadata": {},
   "outputs": [
    {
     "name": "stdout",
     "output_type": "stream",
     "text": [
      "Hola*mundo*python Hola*mundo*python\n",
      "Hola*mundo*python@"
     ]
    }
   ],
   "source": [
    "print(\"Hola\",\"mundo\",\"python\", sep=\"*\",end=\" \") # Termina en un espacio\n",
    "print(\"Hola\",\"mundo\",\"python\", sep=\"*\",end=\"\\n\") # Termina en un salto de línea\n",
    "print(\"Hola\",\"mundo\",\"python\", sep=\"*\",end=\"@\") # Termina en @"
   ]
  },
  {
   "cell_type": "markdown",
   "id": "d87f32e6-ccb6-4733-83a0-7e2e58f19963",
   "metadata": {},
   "source": [
    "### 9.1 Descripción\n",
    "\n",
    "El programa anterior tiene los siguientes elementos:\n",
    "\n",
    "1. Terminación en **espacio**\n",
    "2. Terminación en **\\n (salto de línea)**\n",
    "3. Terminación en **@**"
   ]
  },
  {
   "cell_type": "code",
   "execution_count": null,
   "id": "d2a3929a-2d78-4c81-acd9-fd67872ab5fa",
   "metadata": {},
   "outputs": [],
   "source": []
  }
 ],
 "metadata": {
  "kernelspec": {
   "display_name": "Python 3 (ipykernel)",
   "language": "python",
   "name": "python3"
  },
  "language_info": {
   "codemirror_mode": {
    "name": "ipython",
    "version": 3
   },
   "file_extension": ".py",
   "mimetype": "text/x-python",
   "name": "python",
   "nbconvert_exporter": "python",
   "pygments_lexer": "ipython3",
   "version": "3.10.9"
  }
 },
 "nbformat": 4,
 "nbformat_minor": 5
}
