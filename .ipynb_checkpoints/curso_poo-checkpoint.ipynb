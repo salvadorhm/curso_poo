{
 "cells": [
  {
   "cell_type": "markdown",
   "id": "5771399d-b4f5-44e4-bf7d-3a35b8b98ace",
   "metadata": {},
   "source": [
    "# Curso de Programación Orientada a Objetos con Python3\n",
    "\n",
    "## Introducción\n",
    "\n",
    "En este curso de introducción a la programación en Python3 se muestran códigos de ejemplo y se describe el funcionamiento de cada uno de ellos.\n",
    "\n",
    "# print()"
   ]
  },
  {
   "cell_type": "markdown",
   "id": "89e5a927-d339-47af-a1a3-f6ef01c2eac8",
   "metadata": {},
   "source": [
    "## 1. Programa0 - Hola mundo"
   ]
  },
  {
   "cell_type": "code",
   "execution_count": 1,
   "id": "93d11e9f-8ec9-4283-acdb-64734fd710be",
   "metadata": {},
   "outputs": [
    {
     "name": "stdout",
     "output_type": "stream",
     "text": [
      "Hola mundo en Python3\n"
     ]
    }
   ],
   "source": [
    "print(\"Hola mundo en Python3\") # Muestra en consola el mensaje Hola mundo en Python3"
   ]
  },
  {
   "cell_type": "markdown",
   "id": "3ff0951d-89c7-41f8-8697-17b8a9428388",
   "metadata": {},
   "source": [
    "### 1.1 Descripción \n",
    "\n",
    "En el ejemplo anterior se utlizan los siguientes elementos:\n",
    "\n",
    "1. El método **print()** permite mostrar una cadena de texto en la consola.\n",
    "2. Las **\" (Comillas dobles)** indican que el contenido es una cadena de texto **string**.\n",
    "3. El simbolo **# (Hashtag)** se utiliza para agregar un comentario de una línea, es decir el texto que esta a la derecha del simbolo es ignorada durante la ejecución, y permite describir que hace esa línea."
   ]
  },
  {
   "cell_type": "markdown",
   "id": "ecb67bc6-b7bb-4801-828f-c077db0020ca",
   "metadata": {},
   "source": [
    "## 2. Programa1 - Concatenación de variables"
   ]
  },
  {
   "cell_type": "code",
   "execution_count": 4,
   "id": "bc026e96-9337-47d7-a24a-41d67f4ec082",
   "metadata": {},
   "outputs": [
    {
     "name": "stdout",
     "output_type": "stream",
     "text": [
      "Hola mundo python3\n"
     ]
    }
   ],
   "source": [
    "texto1 = \"Hola \" # Declaración y asignación de valor a la variable texto1\n",
    "texto2 = \"mundo python3\" # Declaración y asignación de valor a la variable texto1\n",
    "print(texto1 + texto2) # Concatenación de dos cadenas de texto"
   ]
  },
  {
   "cell_type": "markdown",
   "id": "eb9643fb-09fa-461e-8009-9419a637561f",
   "metadata": {},
   "source": [
    "### 2.1 Descripción\n",
    "\n",
    "En el ejemplo aterior se utilizan los siguientes elementos:\n",
    "\n",
    "1. **texto1** y **texto2** son variables, es decir son elementos que permiten almacenar datos en la memoria volatil de la computadora.\n",
    "2. En Python cuando se asigna un valor a una **variable** utilizando **=** seguido de un valor es cuando se determina el tipo de dato de esa **variable**.\n",
    "3. Cuando se utiliza la función **print()** esta no solo recibe cadenas de texto, tambien puede recibir variables con cadenas de texto.\n",
    "4. El operador **+** es un operador aritmético que permite sumar dos números, pero como se muestra en este ejemplo tambien permite **concatenar** dos o más cadenas de texto, convirtiendolas en una sola cadena de texto."
   ]
  },
  {
   "cell_type": "markdown",
   "id": "bb794a02-6b5b-40f0-b6c2-2054fa51c959",
   "metadata": {},
   "source": [
    "## 3. Programa2 - Impresión de variables utilizando format"
   ]
  },
  {
   "cell_type": "code",
   "execution_count": 10,
   "id": "5b973dc3-b5de-4806-9123-f0be133631e7",
   "metadata": {},
   "outputs": [
    {
     "name": "stdout",
     "output_type": "stream",
     "text": [
      "Hola 619\n"
     ]
    }
   ],
   "source": [
    "texto1 = \"Hola \"  # Varaible de tipo cadena de caracteres (str)\n",
    "texto2 = 619  # Varible de tipo entero (int)\n",
    "#print(texto1 + texto2)  # Error no se pueden concatenar un str y un int\n",
    "print(\"{}{}\".format(texto1,texto2)) # Concatenación de dos cadenas de texto"
   ]
  },
  {
   "cell_type": "markdown",
   "id": "f63bfa84-d46c-4d43-9306-13a496f6e6bd",
   "metadata": {},
   "source": [
    "### 3.1 Descripción\n",
    "\n",
    "En el ejemplo anterior se utilizan los siguientes elementos:\n",
    "\n",
    "1. **texto1** es una variable de tipo cadena de caractéres **string**\n",
    "2. **texto2** es una variable de tipo numérico entero **int**\n",
    "3. La función **print()** utilza el método **format()** para imprimir los valores de las variables, sustituyendo cada para de **{} (llaves)** por el valor de una variable, en el orden en el que se encuentran escritas, separadas por **,**\n",
    "4. El método **format** automáticamente convierte el valor **619** a una cadena de carateres **str**"
   ]
  },
  {
   "cell_type": "markdown",
   "id": "2838d741-6938-462d-8d80-da43effd745d",
   "metadata": {},
   "source": [
    "## 4. Programa3 -  Impresión de variables utilizando format y operaciones"
   ]
  },
  {
   "cell_type": "code",
   "execution_count": 33,
   "id": "1a489af0-a7ed-45d8-82ed-545e0d1d4811",
   "metadata": {},
   "outputs": [
    {
     "name": "stdout",
     "output_type": "stream",
     "text": [
      "15.0\n",
      "10+5.0=15.0\n",
      "50.0 = 5.0 * 10\n",
      "El resultado de dividir 10 / 5.0 es 2.0\n"
     ]
    }
   ],
   "source": [
    "numero1 = 10  # Variable de tipo int\n",
    "numero2 = 5.0  # Variable de tipo float\n",
    "print(numero1 + numero2)  # Operacion suma dentro del print\n",
    "print(\"{}+{}={}\".format(numero1,numero2,(numero1+numero2)))  # Operacion suma utilizando format\n",
    "print(\"{} = {} * {}\".format((numero1 * numero2), numero2,numero1))  # Operacion resta utilizando format\n",
    "print(\"El resultado de dividir {} / {} es {}\".format(numero1,numero2,(numero1/numero2)))  # Operacion suma utilizando format"
   ]
  },
  {
   "cell_type": "markdown",
   "id": "d7f8eddf-c420-422b-a6bc-669ae24e14ad",
   "metadata": {},
   "source": [
    "### 4.1 Descripción\n",
    "\n",
    "En el ejemplo anterior se utilizan los siguientes elementos:\n",
    "\n",
    "1. **numero1** es una variable de tipo entero **int**\n",
    "2. **numero2** es una variable de tipo flotante **float**\n",
    "3. La función **print()** permite imprimir los valores de las variables que le envia el método **format()**\n",
    "4. Dentro de **format()** es posible realizar operaciones y convertir el resultado a una cadena de caracteres **str**, además de poder mezclar cadenas y variables."
   ]
  },
  {
   "cell_type": "markdown",
   "id": "cab57ba6-a2a4-450e-be8c-cccf06441fda",
   "metadata": {},
   "source": [
    "## 5. Programa4 - Impresión de variables por nombre utilizando format"
   ]
  },
  {
   "cell_type": "code",
   "execution_count": 15,
   "id": "deca860a-6340-474e-aedb-d174b945de2b",
   "metadata": {},
   "outputs": [
    {
     "name": "stdout",
     "output_type": "stream",
     "text": [
      "10+15.8=25.8\n"
     ]
    }
   ],
   "source": [
    "numero1 = 10 # variable de tipo int\n",
    "numero2 = 15.8 # variable de tipo float\n",
    "print(\"{n1}+{n2}={suma}\".format(n1=numero1,n2=numero2,suma=numero1+numero2))"
   ]
  },
  {
   "cell_type": "markdown",
   "id": "a3a74d50-09dd-4f95-99a2-85f4b159b16f",
   "metadata": {},
   "source": [
    "## 5.1 Descripción\n",
    "\n",
    "En el ejemplo anterior se utlzan los siguientes elemntos\n",
    "\n",
    "1. **numero1** es una variable de tipo **int**\n",
    "2. **numero2** es una variable de tipo **float**\n",
    "3. La función **print()** imprime los valores de las variables en envía el méotod **format()** a traves del nombre que se les asigna dentro de **format()**"
   ]
  },
  {
   "cell_type": "markdown",
   "id": "ac6caf5d-ed26-42d0-867a-a71f5bacebaa",
   "metadata": {},
   "source": [
    "## 6. Programa5 - Impresión de variables utilizando f string"
   ]
  },
  {
   "cell_type": "code",
   "execution_count": 16,
   "id": "06d50164-9e36-4703-b0b0-5258788cc9d9",
   "metadata": {},
   "outputs": [
    {
     "name": "stdout",
     "output_type": "stream",
     "text": [
      "10 + 16.5 = 26.5\n"
     ]
    }
   ],
   "source": [
    "numero1 = 10 # variable de tipo int\n",
    "numero2 = 16.5 # variable de tipo float\n",
    "print(f\"{numero1} + {numero2} = {numero1+numero2}\")"
   ]
  },
  {
   "cell_type": "markdown",
   "id": "f0d950e7-df31-41ba-956a-bbe30764f7f7",
   "metadata": {},
   "source": [
    "## 6.1 Descripción\n",
    "\n",
    "1. **numero1** es una variable de tipo **int**\n",
    "2. **numero2** es una variable de tipo **float**\n",
    "3. La función **print()** utlizan **f string** para llamar directamente el valor de las variables dentro de las **\" (comillas dobles)**"
   ]
  },
  {
   "cell_type": "markdown",
   "id": "8aae38e8-aa89-4cf0-94cc-fb9c76d8745d",
   "metadata": {},
   "source": [
    "## 7. Programa6 - Imprimir el tipo de dato de las variables"
   ]
  },
  {
   "cell_type": "code",
   "execution_count": 18,
   "id": "77a26e28-c78c-4810-a63b-d53ce57067dd",
   "metadata": {},
   "outputs": [
    {
     "name": "stdout",
     "output_type": "stream",
     "text": [
      "<class 'int'>\n",
      "<class 'float'>\n",
      "<class 'bool'>\n",
      "<class 'str'>\n"
     ]
    }
   ],
   "source": [
    "entero = 10 # variable de tipo int\n",
    "flotante = 14.5 # variable de tipo float\n",
    "boleana = True # variable de tipo bool\n",
    "cadena_caracteres = \"hola\" # variable de tipo str\n",
    "\n",
    "\n",
    "print(type(entero))\n",
    "print(type(flotante))\n",
    "print(type(boleana))\n",
    "print(type(cadena_caracteres))"
   ]
  },
  {
   "cell_type": "markdown",
   "id": "1596babe-1ffb-4bb5-9188-3e12800967b4",
   "metadata": {},
   "source": [
    "### 7.1 Descripción\n",
    "\n",
    "El ejercicio anterior contiene los siguientes elementos\n",
    "\n",
    "1. **entero** variable de tipo **int**\n",
    "2. **flotante** variable de tipo **float**\n",
    "3. **boleana** variable de tipo **bool**\n",
    "4. **cadena_caracteres** variable de tipo **str**\n",
    "5. La función **type()** permite conocer el tipo de dato de una variable, es decir a que **clase** pertenece"
   ]
  },
  {
   "cell_type": "markdown",
   "id": "56c10dbe-2d79-4c18-a774-0d8801567d89",
   "metadata": {},
   "source": [
    "## 8. Programa7 separadores en print()"
   ]
  },
  {
   "cell_type": "code",
   "execution_count": 27,
   "id": "bd5b2206-a33d-4fc6-ae3a-39517de8964c",
   "metadata": {},
   "outputs": [
    {
     "name": "stdout",
     "output_type": "stream",
     "text": [
      "Hola mundo Python\n",
      "Hola mundo Python\n",
      "Hola*mundo*Python\n"
     ]
    }
   ],
   "source": [
    "print(\"Hola\",\"mundo\",\"Python\") # Separador defualt espacio\n",
    "print(\"Hola\",\"mundo\",\"Python\",sep=\" \") # Separador espacio de forma explicita\n",
    "print(\"Hola\",\"mundo\",\"Python\",sep=\"*\") # Separador *"
   ]
  },
  {
   "cell_type": "markdown",
   "id": "e63b3e7d-ad4c-449c-bcb2-8663f3e19c4c",
   "metadata": {},
   "source": [
    "### 8.1 Descripción\n",
    "\n",
    "El ejemplo anterior contiene los siguientes elementos:\n",
    "\n",
    "1. La función **print()** utilizando **,** para separar cadenas de caracteres.\n",
    "2. La función **print()** utilizando el parámetro **sep** para indicar el simbolo **espacio** que se utilzará para separar cadenas de caractéres.\n",
    "3. La función **print()** utilizando el parámetro **sep** para indicar el simbolo * que se utilzará para separar cadenas de caractéres.\n"
   ]
  },
  {
   "cell_type": "markdown",
   "id": "ea7617ff-cad2-42bf-8e8c-86743c2bcaf8",
   "metadata": {},
   "source": [
    "## 9. Programa8 seperaradoes y terminacion en print()"
   ]
  },
  {
   "cell_type": "code",
   "execution_count": 26,
   "id": "0b0b3c5e-a9ce-42da-91e1-11bcf05a72d1",
   "metadata": {},
   "outputs": [
    {
     "name": "stdout",
     "output_type": "stream",
     "text": [
      "Hola*mundo*python Hola*mundo*python\n",
      "Hola*mundo*python@"
     ]
    }
   ],
   "source": [
    "print(\"Hola\",\"mundo\",\"python\", sep=\"*\",end=\" \") # Termina en un espacio\n",
    "print(\"Hola\",\"mundo\",\"python\", sep=\"*\",end=\"\\n\") # Termina en un salto de línea\n",
    "print(\"Hola\",\"mundo\",\"python\", sep=\"*\",end=\"@\") # Termina en @"
   ]
  },
  {
   "cell_type": "markdown",
   "id": "d87f32e6-ccb6-4733-83a0-7e2e58f19963",
   "metadata": {},
   "source": [
    "### 9.1 Descripción\n",
    "\n",
    "El programa anterior tiene los siguientes elementos:\n",
    "\n",
    "1. Terminación en **espacio**\n",
    "2. Terminación en **\\n (salto de línea)**\n",
    "3. Terminación en **@**"
   ]
  },
  {
   "cell_type": "markdown",
   "id": "757b51a7-e140-47e7-a7af-aa0338cc0877",
   "metadata": {},
   "source": [
    "## 10. Programa9 Operaciones con print()"
   ]
  },
  {
   "cell_type": "code",
   "execution_count": 3,
   "id": "c9751857-e16a-432e-9995-fe58c172d6b0",
   "metadata": {},
   "outputs": [
    {
     "name": "stdout",
     "output_type": "stream",
     "text": [
      "13\n",
      "7\n",
      "30\n",
      "3.3333333333333335\n",
      "3\n",
      "1000\n",
      "1\n"
     ]
    }
   ],
   "source": [
    "numero1 = 10  # Variable de tipo enter0\n",
    "numero2 = 3  # Variable de tipo entero\n",
    "print(numero1 +  numero2)  # Suma\n",
    "print(numero1 -  numero2)  # Resta\n",
    "print(numero1 *  numero2)  # Multiplicacion\n",
    "print(numero1 /  numero2)  # Division con punto decimal\n",
    "print(numero1 //  numero2)  # Diivision entera\n",
    "print(numero1 **  numero2)  # Potencia\n",
    "print(numero1 %  numero2)  # Residuo o modulo"
   ]
  },
  {
   "cell_type": "markdown",
   "id": "30d49d3e-3a8a-4c8b-9c43-5c8db1d03819",
   "metadata": {},
   "source": [
    "### 10.1 Descripcion\n",
    "\n",
    "En el ejercicio anterior se muestran los simbolos utilizando para las operaciones básicas:\n",
    "\n",
    "1. Suma +\n",
    "2. Resta -\n",
    "3. Multiplicacion *\n",
    "4. Division punto flotante /\n",
    "5. Division entera // \n",
    "6. Modulo o residuo %\n",
    "7. Potencia **"
   ]
  },
  {
   "cell_type": "markdown",
   "id": "b95eaf5d-784b-4736-b9e6-3300b003b5fb",
   "metadata": {},
   "source": [
    "# 11. Programa10 Operaciones con enteros y flotantes"
   ]
  },
  {
   "cell_type": "code",
   "execution_count": 4,
   "id": "6dc4e804-f66f-4d5c-aa75-92702267e1e2",
   "metadata": {},
   "outputs": [
    {
     "name": "stdout",
     "output_type": "stream",
     "text": [
      "2.0\n"
     ]
    }
   ],
   "source": [
    "numero1 = 10  # variable de tipo entero\n",
    "numero2 = 5.0  # variable de tipo flotante\n",
    "print(numero1 / numero2)  # Resultado de tipo flotante"
   ]
  },
  {
   "cell_type": "code",
   "execution_count": 5,
   "id": "d885a986-40e1-4e78-a527-89060e8e0bdf",
   "metadata": {},
   "outputs": [
    {
     "name": "stdout",
     "output_type": "stream",
     "text": [
      "2.0\n"
     ]
    }
   ],
   "source": [
    "numero1 = 10  # variable de tipo entero\n",
    "numero2 = 5  # variable de tipo entero\n",
    "print(numero1 / numero2)  # Resultado de tipo flotante"
   ]
  },
  {
   "cell_type": "code",
   "execution_count": 10,
   "id": "cf4547b9-2c73-4807-9d78-41728032dcb9",
   "metadata": {},
   "outputs": [
    {
     "name": "stdout",
     "output_type": "stream",
     "text": [
      "15.0\n"
     ]
    }
   ],
   "source": [
    "numero1 = 10  # variable de tipo entero\n",
    "numero2 = 5.0  # variable de tipo flotante\n",
    "print(numero1 + numero2)  # Resultado de tipo flotante"
   ]
  },
  {
   "cell_type": "code",
   "execution_count": 9,
   "id": "e85b1a1f-5da6-4097-946f-b584a2f9bd55",
   "metadata": {},
   "outputs": [
    {
     "name": "stdout",
     "output_type": "stream",
     "text": [
      "15\n"
     ]
    }
   ],
   "source": [
    "numero1 = 10  # variable de tipo entero\n",
    "numero2 = 5  # variable de tipo entero\n",
    "print(numero1 + numero2)  # Resultado de tipo entero"
   ]
  },
  {
   "cell_type": "markdown",
   "id": "b53ce38d-5c72-475f-9d98-a46958621c1a",
   "metadata": {},
   "source": [
    "### 11.1 Descripcion\n",
    "\n",
    "Cuanto se realiza una division el resultado es flotante sin importar que los valores a dividir sean enteros."
   ]
  },
  {
   "cell_type": "markdown",
   "id": "73e38e2d-a80f-4326-9b3a-1e2000fa31e8",
   "metadata": {},
   "source": [
    "# 12. Programa11 Format con el simbolo % módulo"
   ]
  },
  {
   "cell_type": "code",
   "execution_count": 46,
   "id": "4063f31e-3809-4afa-bf9c-d0c47561109b",
   "metadata": {},
   "outputs": [
    {
     "name": "stdout",
     "output_type": "stream",
     "text": [
      "10.00 + 5.60 = 15.60\n",
      " 10 + 005 = 015\n",
      "1.00E+01 + 5.60E+00 = 1.56E+01\n",
      "12 + 5.60 = 15.60\n",
      "a + 5.60 = 15.60\n"
     ]
    }
   ],
   "source": [
    "variable1 = 10  # variable de tipo int\n",
    "variable2 = 5.6  # variable de tipo float\n",
    "print(\"%.2f + %4.2f = %4.2f\" % (variable1, variable2, variable1 + variable2))  # formatea los valores numericos con 2 numeros después del punto flotante\n",
    "print(\"%3d + %.3d = %.3d\" % (variable1, variable2, variable1 + variable2))  # formatea los valores numericos con un numero de digitos\n",
    "print(\"%.2E + %.2E = %.2E\" % (variable1, variable2, variable1 + variable2))  # formatea los valores con notacion cientifica\n",
    "print(\"%0o + %.2f = %.2f\" % (variable1, variable2, variable1 + variable2))  # formatea los enteros a octal\n",
    "print(\"%0x + %.2f = %.2f\" % (variable1, variable2, variable1 + variable2))  # formatea los enteros a hexadecimal\n"
   ]
  },
  {
   "cell_type": "markdown",
   "id": "cc08eb3b-13e6-4ba2-99a0-8d0c13c4030f",
   "metadata": {},
   "source": [
    "## 12.1 Descripción\n",
    "\n",
    "1. **variable1** es de tipo int\n",
    "2. **variable2** es de tipo float\n",
    "3. El simbolo **%** permite formatear valores numericos:\n",
    "* f - número de valores después del punto flotante\n",
    "* d - número de valores digitos, si el número tiene menos digitos de los indicados, agrega 0 a la izquierda del valor\n",
    "* E - número con notación cientifica\n",
    "* 0o - número en sistema octal\n",
    "* 0x - número en sistema hexadecimal"
   ]
  },
  {
   "cell_type": "markdown",
   "id": "10b02d26-8410-486c-b7b7-1db3f256a1b0",
   "metadata": {},
   "source": [
    "# 13 Programa12 - Format en sistemas númericos"
   ]
  },
  {
   "cell_type": "code",
   "execution_count": 58,
   "id": "2519ad88-6e8a-4456-8e30-2460cf73e23c",
   "metadata": {},
   "outputs": [
    {
     "name": "stdout",
     "output_type": "stream",
     "text": [
      "Binario: 1010 + 5 = 15\n",
      "Hexadecimal: a + 5 = 15\n",
      "Octal: 12 + 5 = 15\n",
      "Decimal: 10 + 5 = 15\n"
     ]
    }
   ],
   "source": [
    "numero1 = 10\n",
    "numero2 = 5\n",
    "print(\"Binario: {:b} + {} = {}\".format(numero1,numero2,(numero1 + numero2)))\n",
    "print(\"Hexadecimal: {:x} + {} = {}\".format(numero1,numero2,(numero1 + numero2)))\n",
    "print(\"Octal: {:o} + {} = {}\".format(numero1,numero2,(numero1 + numero2)))\n",
    "print(\"Decimal: {:d} + {} = {}\".format(numero1,numero2,(numero1 + numero2)))\n"
   ]
  },
  {
   "cell_type": "markdown",
   "id": "265488e0-d2b7-4443-a8c2-d29720e91ffc",
   "metadata": {},
   "source": [
    "# 14. Programa13 - Sustituir valores por posicion"
   ]
  },
  {
   "cell_type": "code",
   "execution_count": 63,
   "id": "7c659368-17ea-4a0d-ba4d-6a144c9a08c3",
   "metadata": {},
   "outputs": [
    {
     "name": "stdout",
     "output_type": "stream",
     "text": [
      "10 + 5 = 15\n",
      "10 + 5 = 15\n",
      "10 + 5 = 10\n",
      "15 + 15 = 15\n"
     ]
    }
   ],
   "source": [
    "numero1 = 10  # variable de tipo int\n",
    "numero2 = 5  # variable de tipo int\n",
    "suma = numero1 + numero2  # suma dos valores y los almacena en una nueva variable\n",
    "print(\"{} + {} = {}\".format(numero1,numero2,suma))  # imprime los valores en el orden en que son escritos\n",
    "print(\"{0} + {1} = {2}\".format(numero1,numero2,suma))  # imprime los valores por su indice\n",
    "print(\"{0} + {1} = {0}\".format(numero1,numero2,suma))  # imprime los valores por su indice\n",
    "print(\"{2} + {2} = {2}\".format(numero1,numero2,suma))  # imprime los valores por su indice"
   ]
  },
  {
   "cell_type": "markdown",
   "id": "e2ae732e-6bb7-476f-a94a-baf8cc25fce3",
   "metadata": {},
   "source": [
    "# 15. Programa14 - Separadores en format"
   ]
  },
  {
   "cell_type": "code",
   "execution_count": 123,
   "id": "e5a9be8b-745a-409a-994b-d393de32e1f0",
   "metadata": {},
   "outputs": [
    {
     "name": "stdout",
     "output_type": "stream",
     "text": [
      "1234567890\n",
      "1,234,567,890\n",
      "987,654,321\n",
      "+1,234,567,890\n",
      "-987,654,321\n",
      "-987,654,321\n"
     ]
    }
   ],
   "source": [
    "numero = 1234567890  # valore int\n",
    "print(\"{:}\".format(numero))  # Imprime el valor tal como se escribio\n",
    "print(\"{:,}\".format(numero))  # Separador , para los miles\n",
    "print(\"{1:,}\".format(numero, 987654321))  # sepador , para los decimales, y posicion de variables\n",
    "print(\"{:+,}\".format(numero))  # Indica que imprima el + para valores positivos\n",
    "print(\"{1:,}\".format(numero, -987654321)) # Si el número es negativo muestra el -\n",
    "print(\"{1:-,}\".format(numero, -987654321)) # No afeca para numeros negativos"
   ]
  },
  {
   "cell_type": "markdown",
   "id": "70119025-9e6c-48ce-ac12-aade11344e77",
   "metadata": {},
   "source": [
    "# 16. Programa15 - Porcentajes"
   ]
  },
  {
   "cell_type": "code",
   "execution_count": 124,
   "id": "3ed76a7e-1339-4a8d-9ed7-dcea46a744a5",
   "metadata": {},
   "outputs": [
    {
     "name": "stdout",
     "output_type": "stream",
     "text": [
      "Porcentaje: 0.5454545454545454\n",
      "Porcentaje: 0.55\n",
      "Porcentaje: 54.55%\n"
     ]
    }
   ],
   "source": [
    "aciertos = 6 # variable int\n",
    "preguntas = 11 # variable int \n",
    "print('Porcentaje: {:}'.format(aciertos/preguntas)) # resultado de la división\n",
    "print('Porcentaje: {:.2}'.format(aciertos/preguntas))  # resultado de la división con 2 valores decimales\n",
    "print('Porcentaje: {:.2%}'.format(aciertos/preguntas))  # resultado de la división en formato de porcentaje"
   ]
  },
  {
   "cell_type": "markdown",
   "id": "cf6adcf8-8a68-4586-99a5-54d65276367c",
   "metadata": {},
   "source": [
    "# 17. Programa16 - Format fechas"
   ]
  },
  {
   "cell_type": "code",
   "execution_count": 114,
   "id": "f4f3556d-e44d-45e7-b31d-e2e33ebae2a9",
   "metadata": {},
   "outputs": [
    {
     "name": "stdout",
     "output_type": "stream",
     "text": [
      "2023-01-24 14:40:58\n",
      "2023/01/24 14:40:58\n",
      "23-01-24 14:40:58\n",
      "2023-01-24  Jan Tuesday 14:40:58\n"
     ]
    }
   ],
   "source": [
    "import datetime\n",
    "fecha = datetime.datetime(2023, 1, 24, 14, 40, 58)\n",
    "print('{:%Y-%m-%d %H:%M:%S}'.format(fecha)) # Fecha y hora con - como separador\n",
    "print('{:%Y/%m/%d %H:%M:%S}'.format(fecha)) # fecha y hora con / como separador\n",
    "print('{:%y-%m-%d %H:%M:%S}'.format(fecha)) # Fecha y hora, año en 2 cifras\n",
    "print('{:%Y-%m-%d  %h %A %H:%M:%S}'.format(fecha)) # Fecha y hora, Mes y Dia"
   ]
  },
  {
   "cell_type": "code",
   "execution_count": null,
   "id": "a5629eee-a933-45f1-8902-70f3d4329d0a",
   "metadata": {},
   "outputs": [],
   "source": []
  }
 ],
 "metadata": {
  "kernelspec": {
   "display_name": "Python 3 (ipykernel)",
   "language": "python",
   "name": "python3"
  },
  "language_info": {
   "codemirror_mode": {
    "name": "ipython",
    "version": 3
   },
   "file_extension": ".py",
   "mimetype": "text/x-python",
   "name": "python",
   "nbconvert_exporter": "python",
   "pygments_lexer": "ipython3",
   "version": "3.10.9"
  }
 },
 "nbformat": 4,
 "nbformat_minor": 5
}
